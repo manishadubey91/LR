{
  "nbformat": 4,
  "nbformat_minor": 0,
  "metadata": {
    "kernelspec": {
      "display_name": "Python 3",
      "language": "python",
      "name": "python3"
    },
    "language_info": {
      "codemirror_mode": {
        "name": "ipython",
        "version": 3
      },
      "file_extension": ".py",
      "mimetype": "text/x-python",
      "name": "python",
      "nbconvert_exporter": "python",
      "pygments_lexer": "ipython3",
      "version": "3.5.2"
    },
    "colab": {
      "name": "AIET2021_LogisticRegressionFull.ipynb",
      "provenance": []
    }
  },
  "cells": [
    {
      "cell_type": "code",
      "metadata": {
        "id": "1sB2GqQgJCHw"
      },
      "source": [
        "import numpy as np\n",
        "import matplotlib.pyplot as plt\n",
        "import warnings\n",
        "warnings.filterwarnings('ignore')"
      ],
      "execution_count": null,
      "outputs": []
    },
    {
      "cell_type": "markdown",
      "metadata": {
        "id": "YFlMB61Z6vxC"
      },
      "source": [
        "# Data Simulation"
      ]
    },
    {
      "cell_type": "markdown",
      "metadata": {
        "id": "m1ms_wosJCH1"
      },
      "source": [
        "Generate 1000 samples from two different classes of equal size\n",
        "1. 500 samples from class 1 are generated here."
      ]
    },
    {
      "cell_type": "markdown",
      "metadata": {
        "id": "k7rYnkLowUTT"
      },
      "source": [
        "x_1 = [x_11, x_12]"
      ]
    },
    {
      "cell_type": "code",
      "metadata": {
        "id": "3nlaRID3JCH1",
        "colab": {
          "base_uri": "https://localhost:8080/"
        },
        "outputId": "938c2b57-2360-4ab1-c031-9ac63efb7f55"
      },
      "source": [
        "Number_of_points = 1000\n",
        "\n",
        "mean = [-2.5, -2.5]\n",
        "\n",
        "cov = [[1, 0], [0, 1]]\n",
        "\n",
        "X_data = np.random.multivariate_normal(mean, cov, Number_of_points//2)\n",
        "# print(X_data)\n",
        "print(X_data.shape)"
      ],
      "execution_count": null,
      "outputs": [
        {
          "output_type": "stream",
          "text": [
            "(500, 2)\n"
          ],
          "name": "stdout"
        }
      ]
    },
    {
      "cell_type": "code",
      "metadata": {
        "colab": {
          "base_uri": "https://localhost:8080/"
        },
        "id": "FSVoazqYdwLe",
        "outputId": "00d05e66-931b-4826-de29-745a20d0bf0c"
      },
      "source": [
        "print(X_data)"
      ],
      "execution_count": null,
      "outputs": [
        {
          "output_type": "stream",
          "text": [
            "[[-1.10421617 -2.89444275]\n",
            " [-2.1136031  -3.1330889 ]\n",
            " [-0.77800867 -2.76904624]\n",
            " [-3.270737   -0.21518284]\n",
            " [-2.63304733 -1.94608599]\n",
            " [-2.00083432 -0.65028592]\n",
            " [-0.54284691 -3.27815268]\n",
            " [-5.29825808 -3.43684088]\n",
            " [-3.88375341 -2.75754954]\n",
            " [-2.06487733 -4.72722153]\n",
            " [-3.10511973 -2.13847806]\n",
            " [-2.27471133 -1.96236379]\n",
            " [-4.0121443   0.32183481]\n",
            " [-2.04088665 -1.60632021]\n",
            " [-1.31593986 -3.47058064]\n",
            " [-2.34568168 -0.68391856]\n",
            " [-2.38765208 -2.92040559]\n",
            " [-3.21064806 -2.19301422]\n",
            " [-3.58356919 -0.26260151]\n",
            " [-3.24387283 -2.12247785]\n",
            " [-2.46668076 -1.65813311]\n",
            " [-2.82097006 -3.29641907]\n",
            " [-1.96533863 -0.29129157]\n",
            " [-2.02903259 -1.95319822]\n",
            " [-3.07363238 -2.56743832]\n",
            " [-1.05612491 -1.94586966]\n",
            " [-1.97389935 -2.91870759]\n",
            " [-3.3869405  -2.60196481]\n",
            " [-4.21490258 -2.59677191]\n",
            " [-0.85890011 -1.61656749]\n",
            " [-3.67933446 -3.43937002]\n",
            " [-3.869209   -3.68157359]\n",
            " [-3.69818739 -3.37074524]\n",
            " [-0.55489568 -2.81636003]\n",
            " [-2.63231881 -1.13106421]\n",
            " [-2.07386925 -2.68502256]\n",
            " [-1.36038887 -0.62056519]\n",
            " [-1.98030387 -4.8991551 ]\n",
            " [-3.11234181 -2.97687387]\n",
            " [-3.39051396 -3.96649332]\n",
            " [-2.79034985 -1.76557191]\n",
            " [-3.67155783 -3.62767012]\n",
            " [-2.38492985 -1.37929138]\n",
            " [-4.81511292 -1.25930484]\n",
            " [-1.94860892 -2.14732253]\n",
            " [-2.06785716 -1.27797935]\n",
            " [-3.55276142 -3.04644682]\n",
            " [-2.60793341 -2.26807275]\n",
            " [-4.09094167 -3.16472672]\n",
            " [-2.00530455 -1.35552162]\n",
            " [-4.5786444  -4.78285167]\n",
            " [-2.17064385 -2.23357082]\n",
            " [-4.36084063 -3.09911791]\n",
            " [-4.40588131 -2.51683097]\n",
            " [-1.3230342  -2.93855613]\n",
            " [-2.39636043 -0.19780513]\n",
            " [-1.97336528 -1.01943262]\n",
            " [-2.56154176 -3.43818844]\n",
            " [-1.97511121 -1.35570339]\n",
            " [-1.31011337 -2.63566557]\n",
            " [-2.04185235 -3.46493194]\n",
            " [-2.00728944 -3.32493965]\n",
            " [-3.42054691 -0.45324286]\n",
            " [-1.45456095 -1.4456479 ]\n",
            " [-1.76672258 -1.52058703]\n",
            " [-2.17655073 -0.05833346]\n",
            " [-1.83171523 -1.7930015 ]\n",
            " [-1.80291243 -2.24488191]\n",
            " [-2.79603155 -1.6759051 ]\n",
            " [-2.90650026 -2.7450086 ]\n",
            " [-2.82769268 -2.46441385]\n",
            " [-2.46619979 -1.39181626]\n",
            " [-2.97072706 -2.17910135]\n",
            " [-1.19248279 -1.66516627]\n",
            " [-2.65107571 -2.97845681]\n",
            " [-3.04286879 -2.27420409]\n",
            " [-4.12374036 -3.27725301]\n",
            " [-2.82216484 -3.19908768]\n",
            " [-4.09401498 -2.76046431]\n",
            " [-0.80023417 -0.92185829]\n",
            " [-2.10720494 -1.90290608]\n",
            " [-1.99212209 -2.67414292]\n",
            " [-2.6887336  -1.02012417]\n",
            " [-2.45694514 -3.23855374]\n",
            " [-0.194592   -2.29549502]\n",
            " [-1.11544654 -1.44082806]\n",
            " [-2.3959865  -3.43853429]\n",
            " [-3.62015239 -2.57922602]\n",
            " [-1.51395369 -2.1941247 ]\n",
            " [-2.75767806 -2.23430105]\n",
            " [-2.66805863 -2.38567007]\n",
            " [-1.49658851 -1.69845776]\n",
            " [-3.27317988 -2.86797558]\n",
            " [-3.24406203 -2.80082603]\n",
            " [-3.19822659 -3.49744804]\n",
            " [-1.58212475 -3.17106123]\n",
            " [-2.3396039  -3.74599129]\n",
            " [-2.70172041 -1.5962703 ]\n",
            " [-3.10727858 -2.6155927 ]\n",
            " [-0.9947878  -1.52360717]\n",
            " [-3.94064251 -3.10043045]\n",
            " [-2.33474469 -3.07663495]\n",
            " [-3.26695087 -3.06140143]\n",
            " [-3.04490231 -2.30398688]\n",
            " [-1.63225815 -2.03021078]\n",
            " [-2.9135779  -2.81645608]\n",
            " [-1.99647964 -1.30551495]\n",
            " [-2.42469421 -3.38652393]\n",
            " [-2.55376756 -2.42596385]\n",
            " [-4.31223726 -2.62648826]\n",
            " [-1.77425304 -2.2639311 ]\n",
            " [-3.86922272 -2.39952014]\n",
            " [-1.44624696 -1.52866346]\n",
            " [-3.3685137  -2.25205705]\n",
            " [-5.01197791 -2.8256269 ]\n",
            " [-2.79258344 -3.51605317]\n",
            " [-2.95862101 -2.91644876]\n",
            " [-2.51529926 -4.7278887 ]\n",
            " [-2.81164008 -1.2154212 ]\n",
            " [-4.28388991 -1.22666674]\n",
            " [-2.0586042  -1.35829788]\n",
            " [-1.0628342  -2.81978485]\n",
            " [-2.05697784 -2.6833447 ]\n",
            " [-2.14091916 -2.60334584]\n",
            " [-2.53308372 -1.68822244]\n",
            " [-3.07176561 -3.34299223]\n",
            " [-1.90419557 -1.70120039]\n",
            " [-3.51948769 -2.02043099]\n",
            " [-1.35772094 -0.50403436]\n",
            " [-3.28961099 -1.85622602]\n",
            " [-1.47851331 -3.47633638]\n",
            " [-1.76645848 -1.95519992]\n",
            " [-3.1329382  -3.34799254]\n",
            " [-1.73294467 -0.85974732]\n",
            " [-2.0646545  -0.65820405]\n",
            " [-2.8946281  -3.0367053 ]\n",
            " [-2.12033495 -1.81254379]\n",
            " [-1.15144388 -2.95709912]\n",
            " [-1.76218228 -0.40186669]\n",
            " [-1.6311399  -1.570213  ]\n",
            " [-2.60475889 -2.71004858]\n",
            " [-3.1267861  -2.5301397 ]\n",
            " [-2.22913957 -3.57302617]\n",
            " [-2.69574156 -2.35004248]\n",
            " [-4.04974006 -4.16917982]\n",
            " [-2.43086335 -2.49756813]\n",
            " [-2.50953301 -1.7483991 ]\n",
            " [-3.54778247 -2.60716716]\n",
            " [-2.85156868 -2.07901247]\n",
            " [-1.62953317 -2.15937019]\n",
            " [-2.54172716 -1.99176854]\n",
            " [-2.67200802 -2.29844511]\n",
            " [-0.50466467 -2.56669204]\n",
            " [-3.40429506 -3.61309951]\n",
            " [-2.06092213 -1.87454926]\n",
            " [-0.77294817 -2.08488754]\n",
            " [-3.08930339 -4.11693185]\n",
            " [-2.63130299 -1.62575628]\n",
            " [-2.80121077 -2.46440349]\n",
            " [-2.13821392 -3.60418714]\n",
            " [-1.28675836 -1.00135011]\n",
            " [-2.88553011 -3.24891676]\n",
            " [-1.33260065 -1.60591445]\n",
            " [-2.39858872 -3.78052551]\n",
            " [-2.56337162 -3.36331763]\n",
            " [-3.35202877 -3.58506493]\n",
            " [-3.58115644 -1.90558725]\n",
            " [-0.59092472 -2.12036937]\n",
            " [-1.36984804 -2.01953377]\n",
            " [-2.54887372 -1.61366279]\n",
            " [-1.47620043 -1.21083578]\n",
            " [-2.39416903 -3.00053624]\n",
            " [-3.57739017 -1.61797645]\n",
            " [-2.32195082 -3.12383422]\n",
            " [-2.71981398 -2.56262515]\n",
            " [-2.54496381 -2.6917901 ]\n",
            " [-2.35358694 -1.49503391]\n",
            " [-2.69851108 -2.31460914]\n",
            " [-2.11934012 -3.29665892]\n",
            " [-2.98531233 -1.49033653]\n",
            " [-3.51763323 -3.10127945]\n",
            " [-2.26037848 -2.76347245]\n",
            " [-2.11756937 -3.75782729]\n",
            " [-2.6405478  -2.03409468]\n",
            " [-2.13272231 -1.98409469]\n",
            " [-3.47388138 -2.70780506]\n",
            " [-3.191894   -3.58161345]\n",
            " [-2.35485371 -1.96011266]\n",
            " [-1.77810487 -2.91977649]\n",
            " [-1.8792632  -2.35496058]\n",
            " [-0.85537526 -1.30639411]\n",
            " [-1.44047932 -2.74443086]\n",
            " [-1.63378462 -4.0385728 ]\n",
            " [-3.18905914 -3.17905652]\n",
            " [-2.03402143 -3.248389  ]\n",
            " [-2.77081261 -1.18323648]\n",
            " [-1.49501743 -3.55508639]\n",
            " [-2.54115879 -3.2670759 ]\n",
            " [-2.0254163  -2.12331733]\n",
            " [-1.24314239 -3.41196107]\n",
            " [-4.77951674 -3.44546045]\n",
            " [-2.36541862 -2.58196665]\n",
            " [-2.69795634 -5.17172143]\n",
            " [-0.90071018 -1.89758597]\n",
            " [-2.31171279 -1.09434985]\n",
            " [-1.79593521 -2.97932815]\n",
            " [-1.58474177 -3.68079913]\n",
            " [-2.79401307 -2.30632919]\n",
            " [-3.47921215 -2.45890512]\n",
            " [-3.65284749 -3.34162368]\n",
            " [-0.71816426 -4.08664664]\n",
            " [-2.12024195 -3.03320671]\n",
            " [-2.30807421 -0.9288895 ]\n",
            " [-1.81110393 -2.63993975]\n",
            " [-2.86691273 -3.31571536]\n",
            " [-1.53042255 -2.79383987]\n",
            " [-4.61060625 -3.23435824]\n",
            " [-3.00754811 -1.52862591]\n",
            " [-3.78006413 -1.12072274]\n",
            " [-2.09611563 -3.06363479]\n",
            " [-3.34547859 -1.84313198]\n",
            " [-1.99451273 -3.94058698]\n",
            " [-3.22116364 -3.01430972]\n",
            " [-2.93087453 -2.49769715]\n",
            " [-3.35644461 -1.61914866]\n",
            " [-2.27004367 -1.09072267]\n",
            " [-3.86738188 -2.2715425 ]\n",
            " [-3.4254738  -2.02190342]\n",
            " [-3.22529363 -4.12316411]\n",
            " [-2.52760579 -4.46182906]\n",
            " [-2.01982513 -2.6040563 ]\n",
            " [-2.86630231 -1.4017058 ]\n",
            " [-0.80790972 -3.41644859]\n",
            " [-4.11608702 -0.50573343]\n",
            " [-2.15023937 -3.8125809 ]\n",
            " [-2.95156964 -2.25530472]\n",
            " [-1.71102225 -0.56259905]\n",
            " [-2.78121592 -3.48919688]\n",
            " [-1.58709057 -1.05908398]\n",
            " [-3.54952136 -2.40327411]\n",
            " [-2.51061567 -2.06013409]\n",
            " [-2.15101155 -3.5435851 ]\n",
            " [-2.83475162 -2.45046875]\n",
            " [-4.09855818 -1.90988403]\n",
            " [-2.10391054 -1.20267395]\n",
            " [-1.80227387 -2.62063775]\n",
            " [-1.46359567 -1.27093641]\n",
            " [-4.81269235 -1.96129982]\n",
            " [-3.26663114 -3.39935   ]\n",
            " [-2.50090582 -2.76388857]\n",
            " [-2.6413475  -1.91164297]\n",
            " [-2.39352739 -1.6233538 ]\n",
            " [-1.37243331 -0.61618611]\n",
            " [-2.54669331 -3.97071332]\n",
            " [-2.34298869 -4.03193099]\n",
            " [-3.85551959 -2.59329962]\n",
            " [-3.69378285 -3.44210399]\n",
            " [-4.55075704 -3.44474279]\n",
            " [-0.71546926 -1.87565372]\n",
            " [-2.5920618  -1.22535936]\n",
            " [-1.63877406 -4.21475088]\n",
            " [-1.46063815 -2.10782551]\n",
            " [-2.94444848 -3.13674604]\n",
            " [-2.71770659 -4.20940484]\n",
            " [-3.49433059 -3.1955266 ]\n",
            " [-3.39068288 -1.34362574]\n",
            " [-2.32426731 -2.93362725]\n",
            " [-1.47831517 -2.50414602]\n",
            " [-3.5046952  -0.21763275]\n",
            " [-4.31021918 -2.95716074]\n",
            " [-2.5269683  -1.41856432]\n",
            " [-1.46387976 -1.26446685]\n",
            " [-2.15400058 -1.38325275]\n",
            " [-2.20352528 -3.35809974]\n",
            " [-1.28094577 -1.98195782]\n",
            " [-3.16850249 -2.16353697]\n",
            " [-2.76789837 -1.59540138]\n",
            " [-4.19963079 -3.52970729]\n",
            " [-1.52774866 -1.96315664]\n",
            " [-2.7460562  -2.29030382]\n",
            " [-3.30059012 -1.21907957]\n",
            " [-2.19373942 -4.4184663 ]\n",
            " [-2.04560002 -3.24192025]\n",
            " [-4.91925903 -1.89005707]\n",
            " [-3.4875071  -2.42787043]\n",
            " [-0.98224366 -1.51632354]\n",
            " [-3.14838244 -4.05968949]\n",
            " [-3.44492503 -0.67918547]\n",
            " [-1.28070488 -2.65215652]\n",
            " [-2.12945434 -3.25128508]\n",
            " [-3.81018504 -1.64582073]\n",
            " [-2.50002084 -1.64480454]\n",
            " [-2.16092919 -3.66430724]\n",
            " [-2.97247993 -3.69707839]\n",
            " [-3.97061107 -3.00470136]\n",
            " [-1.27896209 -1.44422607]\n",
            " [-2.74296155 -3.11021314]\n",
            " [-2.47995936 -3.52069854]\n",
            " [-2.54487066 -0.67357167]\n",
            " [-2.70686852 -2.38136714]\n",
            " [-3.65219992 -1.19462012]\n",
            " [-4.06227166 -2.68507352]\n",
            " [-0.76346053 -1.44704532]\n",
            " [-1.87082534 -1.60441751]\n",
            " [-1.7980473  -3.63847833]\n",
            " [-3.32294874 -3.31350247]\n",
            " [-2.47010691 -1.67412499]\n",
            " [-2.82696047 -1.16023663]\n",
            " [-2.23682581 -3.65467605]\n",
            " [-2.13614315 -1.96521635]\n",
            " [-2.95159995 -2.88790167]\n",
            " [-1.65964789 -1.91796032]\n",
            " [-2.49044251 -1.33583019]\n",
            " [-2.19885416 -1.94592215]\n",
            " [-0.34723663 -3.43575515]\n",
            " [-2.45586817 -1.61534904]\n",
            " [-0.56505931 -3.05339091]\n",
            " [-3.4341513  -2.02144188]\n",
            " [-2.0532804  -1.60073773]\n",
            " [-1.45423276 -2.18988827]\n",
            " [-1.28202679 -0.66997846]\n",
            " [-2.77390319 -1.04528132]\n",
            " [-2.38447647 -4.35172575]\n",
            " [-1.52519178 -1.54081206]\n",
            " [-3.79098538 -2.41099424]\n",
            " [-2.64833377 -4.04235554]\n",
            " [-1.03489083 -2.26203391]\n",
            " [-0.44822595 -2.02679715]\n",
            " [-4.22571719 -2.87945102]\n",
            " [-3.93246997 -3.59626645]\n",
            " [-3.03836704 -1.99471871]\n",
            " [-2.33611993 -2.86086064]\n",
            " [-3.20676803 -1.73300643]\n",
            " [-2.22825861 -3.42777025]\n",
            " [-1.6889502  -3.10583851]\n",
            " [-2.90670196 -3.04771318]\n",
            " [-2.2124352  -2.47576568]\n",
            " [-1.17176699 -1.91334665]\n",
            " [-2.74994542 -3.86721515]\n",
            " [-2.60180444 -1.94256759]\n",
            " [-2.97594203 -2.39704791]\n",
            " [-0.60698886 -1.08532464]\n",
            " [-2.19327776 -2.10273893]\n",
            " [-1.42470132 -0.31715445]\n",
            " [-1.89089701 -3.1490014 ]\n",
            " [-1.76221138 -2.38377451]\n",
            " [-1.14644034 -2.15070187]\n",
            " [-3.85283497 -3.34916654]\n",
            " [-1.48241677 -2.20395287]\n",
            " [-1.18668228 -2.91966936]\n",
            " [-4.09774005 -3.66131811]\n",
            " [-1.97904322 -2.12102752]\n",
            " [-2.44463127 -2.73672689]\n",
            " [-3.47401658 -1.96418621]\n",
            " [-2.5753494  -3.20683079]\n",
            " [-1.97075159 -3.421916  ]\n",
            " [-4.05624561 -1.74561118]\n",
            " [-2.91083896 -2.87072616]\n",
            " [-3.26087401 -2.64290823]\n",
            " [-4.38203967 -2.05151713]\n",
            " [-4.73725212 -3.41610359]\n",
            " [-1.36805429 -3.13481774]\n",
            " [-2.77552068 -3.59189641]\n",
            " [-1.34503019 -2.52604116]\n",
            " [-4.71620174 -2.81943874]\n",
            " [-2.39415943 -2.79389739]\n",
            " [-0.95462562 -2.04323226]\n",
            " [-0.37659873 -1.15642774]\n",
            " [-4.9211369  -1.66275474]\n",
            " [-0.74473548 -2.690627  ]\n",
            " [-1.36894459 -3.30559443]\n",
            " [-1.58590702 -4.68552664]\n",
            " [-2.25665678 -1.72845087]\n",
            " [-2.32100211 -1.15627822]\n",
            " [-3.70261679 -3.58267625]\n",
            " [-4.70392136 -3.75144719]\n",
            " [-4.02806248 -3.21630894]\n",
            " [-1.11850204 -1.17095133]\n",
            " [-2.30653459 -2.14899055]\n",
            " [-3.14364625 -1.48219833]\n",
            " [-2.96068377 -2.26680212]\n",
            " [-2.86995069 -2.36415666]\n",
            " [-0.73871396 -1.15118711]\n",
            " [-2.6953186  -1.00150833]\n",
            " [-2.22163474 -2.59861125]\n",
            " [-0.82341464 -1.36674451]\n",
            " [-1.16414785 -1.19207539]\n",
            " [-2.934085   -2.28657496]\n",
            " [-3.43264564 -3.45187169]\n",
            " [-2.046319   -3.62859518]\n",
            " [-1.69105449 -2.38221394]\n",
            " [-2.57858037 -3.651198  ]\n",
            " [-1.92089671 -2.09306909]\n",
            " [-4.13110882 -3.78120785]\n",
            " [-3.38782444 -2.64554749]\n",
            " [-2.26285384 -1.98767203]\n",
            " [-3.04831295 -3.78970641]\n",
            " [-3.28552619 -2.5152506 ]\n",
            " [-1.04961065 -1.99295731]\n",
            " [-2.32533571 -3.56932115]\n",
            " [-2.5364781  -1.63681433]\n",
            " [-0.94975824 -2.64641097]\n",
            " [-1.52283337 -1.28786728]\n",
            " [-4.78902399 -2.23771216]\n",
            " [-1.68451013 -2.02581949]\n",
            " [-2.90257263 -3.39280858]\n",
            " [-3.65841285 -0.31106789]\n",
            " [-3.69601226 -1.82353327]\n",
            " [-3.74245905 -2.13279831]\n",
            " [-1.99840693 -2.20118897]\n",
            " [-2.49872239 -1.68683204]\n",
            " [-2.90860023 -1.59396154]\n",
            " [-2.32242739 -3.69002168]\n",
            " [-2.42283202 -1.12120191]\n",
            " [-1.73094937 -1.18186999]\n",
            " [-1.70657499 -2.52262252]\n",
            " [-0.53251646 -2.26799697]\n",
            " [-1.17394366 -2.16970076]\n",
            " [-0.25096123 -2.72013512]\n",
            " [-2.33521648 -2.63779193]\n",
            " [-1.84624402  0.21440573]\n",
            " [-1.64650427 -0.71214183]\n",
            " [-2.07965023 -1.4068676 ]\n",
            " [-1.78910448 -2.36136326]\n",
            " [-3.29371497 -1.74193077]\n",
            " [-1.51629262 -2.02388588]\n",
            " [-1.84534841 -3.83620639]\n",
            " [-3.15543022 -3.25751116]\n",
            " [-3.99980154 -3.95682609]\n",
            " [-0.65143446 -2.93417582]\n",
            " [-2.10353228 -2.34524044]\n",
            " [-1.76561888 -1.66695605]\n",
            " [-0.78690712 -1.2333131 ]\n",
            " [-2.63581066 -3.22654959]\n",
            " [-2.92152435 -1.89450698]\n",
            " [-3.20637864 -3.14718093]\n",
            " [-2.38649424 -3.35483496]\n",
            " [-1.71488985 -3.11566567]\n",
            " [-4.14779713 -2.81209557]\n",
            " [-5.13084396 -3.22118721]\n",
            " [-1.98938588 -3.13380727]\n",
            " [-3.76447528 -3.3757724 ]\n",
            " [-2.24804971 -1.13361952]\n",
            " [-3.39134126 -3.37620428]\n",
            " [-2.4681891  -2.69235234]\n",
            " [-3.34258902 -3.76380311]\n",
            " [-0.01697163 -2.8490237 ]\n",
            " [-3.96638082 -0.19478618]\n",
            " [-1.00660729 -3.85228937]\n",
            " [-1.27663275 -3.56350257]\n",
            " [-1.97725004 -1.40123202]\n",
            " [-1.48619293 -0.90729975]\n",
            " [-3.76078441 -2.23081339]\n",
            " [-3.34166134 -1.98596027]\n",
            " [-2.60118091 -2.59932976]\n",
            " [-1.92186655 -2.74113297]\n",
            " [-1.06337758 -2.89113803]\n",
            " [-2.71501361 -1.62817958]\n",
            " [-3.34754053 -3.41328023]\n",
            " [-3.31107449 -3.10280054]\n",
            " [-2.73418928 -3.11359164]\n",
            " [-2.5946358  -1.80191292]\n",
            " [-1.07265559 -1.17679038]\n",
            " [-1.64745836 -1.89793682]\n",
            " [-2.4509216  -0.22549363]\n",
            " [-3.46015259 -1.79729857]\n",
            " [-0.44649909 -3.39373975]\n",
            " [-2.25708895 -3.13603345]\n",
            " [-1.67276976 -3.16115549]\n",
            " [-1.71116129 -4.41131154]\n",
            " [-1.89518231 -2.28790197]\n",
            " [-1.70822503 -3.47299111]\n",
            " [-3.71687535 -3.21832072]\n",
            " [-2.31781143 -1.59101036]\n",
            " [-2.76627551 -2.97254093]\n",
            " [-2.92334873 -3.0336477 ]\n",
            " [-3.15447139 -1.212129  ]\n",
            " [-3.29051338 -2.68677264]\n",
            " [-2.18050333 -2.58228663]\n",
            " [-2.66486614 -1.66562882]\n",
            " [-4.32904536 -3.28287105]\n",
            " [-3.17999612 -3.58682715]\n",
            " [-2.84440383 -2.92541766]\n",
            " [-2.00073891 -2.77989718]\n",
            " [-4.08195245 -3.03837239]\n",
            " [-3.67100356 -3.46388516]\n",
            " [-4.89679702 -1.94013956]\n",
            " [-2.38231961 -2.11739395]\n",
            " [-2.47593712 -3.79882392]\n",
            " [-3.53822125 -3.19530227]\n",
            " [-1.68355127 -3.4260702 ]\n",
            " [-1.27333622 -2.86283195]\n",
            " [-2.91669382 -1.13579506]\n",
            " [-2.87567366 -1.78189015]\n",
            " [-2.35635317 -3.48520432]\n",
            " [-3.10495465 -3.26560198]\n",
            " [-1.50253624 -3.5282108 ]\n",
            " [-2.1157437  -3.88227672]\n",
            " [-2.63888594 -3.18077047]\n",
            " [-2.96754589 -3.10376864]]\n"
          ],
          "name": "stdout"
        }
      ]
    },
    {
      "cell_type": "markdown",
      "metadata": {
        "id": "TaH7i8-GJCH4"
      },
      "source": [
        "2. A set of 500 samples from class 2 are generted here, by changing the mean of the cluster"
      ]
    },
    {
      "cell_type": "code",
      "metadata": {
        "id": "LYBKe-UNJCH4"
      },
      "source": [
        "mean = [2.5,2.5]\n",
        "# Create samples from class 2 with the above mean. Concatenate the samples from class 1 and class 2.\n",
        "X_data = np.concatenate((X_data,np.random.multivariate_normal(mean, cov, Number_of_points//2)))\n",
        "\n",
        "## Add class to the points generated\n",
        "Y_data = np.zeros((Number_of_points,))\n",
        "Y_data[Number_of_points//2:] = 1"
      ],
      "execution_count": null,
      "outputs": []
    },
    {
      "cell_type": "markdown",
      "metadata": {
        "id": "lXo8fVHo7IOo"
      },
      "source": [
        "## Training and Test Set Creation"
      ]
    },
    {
      "cell_type": "code",
      "metadata": {
        "id": "YviexxtbJCH7"
      },
      "source": [
        "Number_of_training = int(Number_of_points*0.8)\n",
        "\n",
        "Number_of_testing = int(Number_of_points*0.2)\n",
        "\n",
        "## Randomly permute a sequence, or return a permuted range\n",
        "index = np.random.permutation(Number_of_points)"
      ],
      "execution_count": null,
      "outputs": []
    },
    {
      "cell_type": "code",
      "metadata": {
        "id": "0_QCCCOEJCH9",
        "colab": {
          "base_uri": "https://localhost:8080/",
          "height": 286
        },
        "outputId": "28696de7-5763-4716-b3e1-4a09e4668cb2"
      },
      "source": [
        "X_train = X_data[index[:Number_of_training]] \n",
        "\n",
        "Y_train = Y_data[index[:Number_of_training]]\n",
        "\n",
        "## Plots the points generated\n",
        "plt.plot(X_train[:,0],X_train[:,1],'x')\n",
        "\n",
        "plt.show()\n",
        "\n",
        "print(X_train.shape,Y_train.shape)"
      ],
      "execution_count": null,
      "outputs": [
        {
          "output_type": "display_data",
          "data": {
            "image/png": "[encoded data removed]",
            "text/plain": [
              "<Figure size 432x288 with 1 Axes>"
            ]
          },
          "metadata": {
            "needs_background": "light"
          }
        },
        {
          "output_type": "stream",
          "text": [
            "(800, 2) (800,)\n"
          ],
          "name": "stdout"
        }
      ]
    },
    {
      "cell_type": "code",
      "metadata": {
        "id": "QHwDQuVEJCIB",
        "colab": {
          "base_uri": "https://localhost:8080/",
          "height": 268
        },
        "outputId": "0abef8b3-5f09-4c14-f5cc-e2a71daf3b98"
      },
      "source": [
        "X_test = X_data[index[Number_of_training:]]\n",
        "\n",
        "Y_test = Y_data[index[Number_of_training:]]\n",
        "\n",
        "## Plot train and test points in the same plot\n",
        "plt.plot(X_train[:,0],X_train[:,1],'x')\n",
        "## Add parameters for test points\n",
        "plt.plot(X_test[:,0],X_test[:,1],'o',color='red')\n",
        "\n",
        "plt.show()"
      ],
      "execution_count": null,
      "outputs": [
        {
          "output_type": "display_data",
          "data": {
            "image/png": "[encoded data removed]",
            "text/plain": [
              "<Figure size 432x288 with 1 Axes>"
            ]
          },
          "metadata": {
            "needs_background": "light"
          }
        }
      ]
    },
    {
      "cell_type": "markdown",
      "metadata": {
        "id": "_UTDKS7IJCID"
      },
      "source": [
        "## Learning a logisitc regression classifier"
      ]
    },
    {
      "cell_type": "code",
      "metadata": {
        "id": "KeHierThJCIE",
        "colab": {
          "base_uri": "https://localhost:8080/"
        },
        "outputId": "cc18bb3a-527d-44d3-b4ed-a376fa235dc8"
      },
      "source": [
        "# Import library\n",
        "from sklearn.linear_model import LogisticRegression\n",
        "\n",
        "# https://scikit-learn.org/stable/modules/generated/sklearn.linear_model.LogisticRegression.html\n",
        "## ## Please note the default values e.g L-2  regularization by default\n",
        "clf = LogisticRegression(random_state=0, solver='lbfgs',multi_class='multinomial').fit(X_train, Y_train)\n",
        "\n",
        "print(\"Accuracy on training data: %f\"%(clf.score(X_train, Y_train)))\n",
        "\n",
        "print(\"Accuracy on test data: %f\"%(clf.score(X_test, Y_test)))"
      ],
      "execution_count": null,
      "outputs": [
        {
          "output_type": "stream",
          "text": [
            "Accuracy on training data: 1.000000\n",
            "Accuracy on test data: 1.000000\n"
          ],
          "name": "stdout"
        }
      ]
    },
    {
      "cell_type": "markdown",
      "metadata": {
        "id": "OH9zSmFvJCIG"
      },
      "source": [
        "### Visualizing the decision boundary"
      ]
    },
    {
      "cell_type": "code",
      "metadata": {
        "id": "GQun-_1tJCIH",
        "colab": {
          "base_uri": "https://localhost:8080/",
          "height": 265
        },
        "outputId": "b1451209-1917-4295-ee70-a39a4e9f277d"
      },
      "source": [
        "eps = 0.0289\n",
        "plt.plot(X_train[:,0],X_train[:,1],'x')\n",
        "\n",
        "for i in np.linspace(-5,5,150):\n",
        "    for j in np.linspace(-5,5,150):\n",
        "        pred = clf.predict_proba([[i,j]])[0]\n",
        "        if pred[0] >=  0.5 - eps and pred[0] <=0.5 + eps and pred[1] >=  0.5 - eps and pred[1] <=0.5+eps:\n",
        "            plt.plot(i,j,'o',color = 'red',markersize=2)\n",
        "    \n",
        "plt.show()\n",
        "        "
      ],
      "execution_count": null,
      "outputs": [
        {
          "output_type": "display_data",
          "data": {
            "image/png": "[encoded data removed]",
            "text/plain": [
              "<Figure size 432x288 with 1 Axes>"
            ]
          },
          "metadata": {
            "tags": [],
            "needs_background": "light"
          }
        }
      ]
    },
    {
      "cell_type": "markdown",
      "metadata": {
        "id": "Id90Y9YoF07U"
      },
      "source": [
        "## Iris Dataset - Multiclass Classification"
      ]
    },
    {
      "cell_type": "code",
      "metadata": {
        "id": "vkIcM1S2JCIJ",
        "colab": {
          "base_uri": "https://localhost:8080/",
          "height": 139
        },
        "outputId": "6a79c39d-a810-40ff-d24e-246b50d230cf"
      },
      "source": [
        "\n",
        "from sklearn.datasets import load_iris\n",
        "\n",
        "X, y = load_iris(return_X_y=True)\n",
        "print(X.shape)\n",
        "print(y)\n",
        "print(list(load_iris().target_names))\n"
      ],
      "execution_count": null,
      "outputs": [
        {
          "output_type": "stream",
          "text": [
            "(150, 4)\n",
            "[0 0 0 0 0 0 0 0 0 0 0 0 0 0 0 0 0 0 0 0 0 0 0 0 0 0 0 0 0 0 0 0 0 0 0 0 0\n",
            " 0 0 0 0 0 0 0 0 0 0 0 0 0 1 1 1 1 1 1 1 1 1 1 1 1 1 1 1 1 1 1 1 1 1 1 1 1\n",
            " 1 1 1 1 1 1 1 1 1 1 1 1 1 1 1 1 1 1 1 1 1 1 1 1 1 1 2 2 2 2 2 2 2 2 2 2 2\n",
            " 2 2 2 2 2 2 2 2 2 2 2 2 2 2 2 2 2 2 2 2 2 2 2 2 2 2 2 2 2 2 2 2 2 2 2 2 2\n",
            " 2 2]\n",
            "['setosa', 'versicolor', 'virginica']\n"
          ],
          "name": "stdout"
        }
      ]
    },
    {
      "cell_type": "code",
      "metadata": {
        "id": "tQyIuki4EwdN",
        "colab": {
          "base_uri": "https://localhost:8080/",
          "height": 69
        },
        "outputId": "343d3576-611d-4bd6-8ea6-a626131010a9"
      },
      "source": [
        "## Create a model for Logistic Regression as done above\n",
        "clf = LogisticRegression(random_state=0, solver='lbfgs',multi_class='multinomial',max_iter=200).fit(X,y)\n",
        "\n",
        "print(clf.predict(X[:2, :]))\n",
        "## predict_proba gives the probability estimates\n",
        "print(clf.predict_proba(X[:1, :])) \n",
        "print(clf.score(X, y))"
      ],
      "execution_count": null,
      "outputs": [
        {
          "output_type": "stream",
          "text": [
            "[0 0]\n",
            "[[9.81583143e-01 1.84168427e-02 1.45011486e-08]]\n",
            "0.9733333333333334\n"
          ],
          "name": "stdout"
        }
      ]
    },
    {
      "cell_type": "code",
      "metadata": {
        "id": "tVfr5ljwo8Sw",
        "colab": {
          "base_uri": "https://localhost:8080/",
          "height": 52
        },
        "outputId": "0bdf1d77-d7c9-4bc6-a25e-4f0e816bf92c"
      },
      "source": [
        "new_observation = [[.5, .5, .5, .5]]\n",
        "print(clf.predict(new_observation))\n",
        "print(clf.predict_proba(new_observation))"
      ],
      "execution_count": null,
      "outputs": [
        {
          "output_type": "stream",
          "text": [
            "[0]\n",
            "[[9.98575782e-01 1.42420748e-03 1.00555016e-08]]\n"
          ],
          "name": "stdout"
        }
      ]
    },
    {
      "cell_type": "markdown",
      "metadata": {
        "id": "yMUajhoYGKuE"
      },
      "source": [
        "## Digits dataset - Multiclass Classification"
      ]
    },
    {
      "cell_type": "code",
      "metadata": {
        "id": "VhXTl4M3JCIL"
      },
      "source": [
        "from sklearn.datasets import load_digits\n",
        "## Each image is of size 8 X 8\n",
        "digits = load_digits()"
      ],
      "execution_count": null,
      "outputs": []
    },
    {
      "cell_type": "code",
      "metadata": {
        "id": "Ir4cXTlXJCIO",
        "colab": {
          "base_uri": "https://localhost:8080/"
        },
        "outputId": "23ee94b4-4248-4c1f-8c25-ddebce96470f"
      },
      "source": [
        "print(\"Image Data Shape\" , digits.data.shape)# Print to show there are 1797 labels (integers from 0–9)\n",
        "print(\"Label Data Shape\", digits.target.shape)"
      ],
      "execution_count": null,
      "outputs": [
        {
          "output_type": "stream",
          "text": [
            "Image Data Shape (1797, 64)\n",
            "Label Data Shape (1797,)\n"
          ],
          "name": "stdout"
        }
      ]
    },
    {
      "cell_type": "code",
      "metadata": {
        "colab": {
          "base_uri": "https://localhost:8080/"
        },
        "id": "c7Vv_AcS3pkA",
        "outputId": "b622c200-be3a-4f3e-a227-757cf1549455"
      },
      "source": [
        "ls = [1,2,3,4]\n",
        "\n",
        "for idx, val in enumerate(ls):\n",
        "  print(\"index\" + str(idx))\n",
        "  print(val)"
      ],
      "execution_count": null,
      "outputs": [
        {
          "output_type": "stream",
          "text": [
            "index0\n",
            "1\n",
            "index1\n",
            "2\n",
            "index2\n",
            "3\n",
            "index3\n",
            "4\n"
          ],
          "name": "stdout"
        }
      ]
    },
    {
      "cell_type": "code",
      "metadata": {
        "id": "-iiMhB1HJCIR",
        "colab": {
          "base_uri": "https://localhost:8080/",
          "height": 283
        },
        "outputId": "4d9ee6b0-b8b8-4b2f-928d-7860a792e93d"
      },
      "source": [
        "plt.figure(figsize=(20,4))\n",
        "for index, (image, label) in enumerate(zip(digits.data[0:5], digits.target[0:5])):\n",
        " plt.subplot(1, 5, index + 1)\n",
        " plt.imshow(np.reshape(image, (8,8)), cmap=plt.cm.gray)\n",
        " plt.title('Training: %i\\n' % label, fontsize = 20)"
      ],
      "execution_count": null,
      "outputs": [
        {
          "output_type": "display_data",
          "data": {
            "image/png": "[encoded data removed]",
            "text/plain": [
              "<Figure size 1440x288 with 5 Axes>"
            ]
          },
          "metadata": {
            "tags": [],
            "needs_background": "light"
          }
        }
      ]
    },
    {
      "cell_type": "code",
      "metadata": {
        "id": "AAzeh-H2JCIT"
      },
      "source": [
        "from sklearn.model_selection import train_test_split\n",
        "## Create a train test split with test size 75-25 split.\n",
        "x_train, x_test, y_train, y_test = train_test_split(digits.data, digits.target, test_size=0.2, random_state=0)\n",
        "\n",
        "x_train, x_val, y_train, y_val = train_test_split(x_train, y_train, test_size=0.2, random_state=0)\n"
      ],
      "execution_count": null,
      "outputs": []
    },
    {
      "cell_type": "markdown",
      "metadata": {
        "id": "I78_28RIeZmL"
      },
      "source": [
        "##### Hyperparameter Tuning - Method *1*"
      ]
    },
    {
      "cell_type": "code",
      "metadata": {
        "id": "ImwGpG4wYiv0",
        "colab": {
          "base_uri": "https://localhost:8080/"
        },
        "outputId": "01f218b3-f5c8-4823-ee63-63bd3d59a65a"
      },
      "source": [
        "## Method 1 \n",
        "C = [0.0001, 0.1, 0.5]\n",
        "for each_C in C:\n",
        "  logisticRegr = LogisticRegression(C = each_C)\n",
        "  logisticRegr.fit(x_train, y_train)\n",
        "  score = logisticRegr.score(x_val, y_val)\n",
        "  print(\"For C value {}, the score obtained is {}\".format(each_C, score))\n",
        "\n",
        "\n"
      ],
      "execution_count": null,
      "outputs": [
        {
          "output_type": "stream",
          "text": [
            "For C value 0.0001, the score obtained is 0.9305555555555556\n",
            "For C value 0.1, the score obtained is 0.9791666666666666\n",
            "For C value 0.5, the score obtained is 0.9791666666666666\n"
          ],
          "name": "stdout"
        }
      ]
    },
    {
      "cell_type": "code",
      "metadata": {
        "id": "iLVvDp-lcJ-C",
        "colab": {
          "base_uri": "https://localhost:8080/",
          "height": 35
        },
        "outputId": "a5847f78-fd3e-401e-98d2-c836f13f47db"
      },
      "source": [
        "logisticRegr = LogisticRegression(C = 0.1)\n",
        "logisticRegr.fit(x_train, y_train)\n",
        "test_score = logisticRegr.score(x_test, y_test)\n",
        "print(test_score)"
      ],
      "execution_count": null,
      "outputs": [
        {
          "output_type": "stream",
          "text": [
            "0.9694444444444444\n"
          ],
          "name": "stdout"
        }
      ]
    },
    {
      "cell_type": "markdown",
      "metadata": {
        "id": "OPj3D51lcjr-"
      },
      "source": [
        "##### Hyperparameter tuning - Method 2 - Grid Search CV"
      ]
    },
    {
      "cell_type": "code",
      "metadata": {
        "id": "5xvgoTzRO3OJ",
        "colab": {
          "base_uri": "https://localhost:8080/"
        },
        "outputId": "aa7693d9-4711-4f31-fd38-673311b51ebb"
      },
      "source": [
        "## Method 2\n",
        "from sklearn.model_selection import GridSearchCV\n",
        "parameters = {'solver': ['newton-cg', 'lbfgs'], 'penalty':['l1', 'l2'], 'max_iter':[100, 500], 'C':[0.01, 0.1]}\n",
        "logisticRegr = LogisticRegression()\n",
        "clf = GridSearchCV(logisticRegr, parameters)\n",
        "clf.fit(x_train, y_train)"
      ],
      "execution_count": null,
      "outputs": [
        {
          "output_type": "execute_result",
          "data": {
            "text/plain": [
              "GridSearchCV(cv=None, error_score=nan,\n",
              "             estimator=LogisticRegression(C=1.0, class_weight=None, dual=False,\n",
              "                                          fit_intercept=True,\n",
              "                                          intercept_scaling=1, l1_ratio=None,\n",
              "                                          max_iter=100, multi_class='auto',\n",
              "                                          n_jobs=None, penalty='l2',\n",
              "                                          random_state=None, solver='lbfgs',\n",
              "                                          tol=0.0001, verbose=0,\n",
              "                                          warm_start=False),\n",
              "             iid='deprecated', n_jobs=None,\n",
              "             param_grid={'C': [0.01, 0.1], 'max_iter': [100, 500],\n",
              "                         'penalty': ['l1', 'l2'],\n",
              "                         'solver': ['newton-cg', 'lbfgs']},\n",
              "             pre_dispatch='2*n_jobs', refit=True, return_train_score=False,\n",
              "             scoring=None, verbose=0)"
            ]
          },
          "metadata": {},
          "execution_count": 64
        }
      ]
    },
    {
      "cell_type": "code",
      "metadata": {
        "id": "YNbHN-9iQmTR",
        "colab": {
          "base_uri": "https://localhost:8080/"
        },
        "outputId": "692d3513-a7fe-4d7d-e5ac-be8206794095"
      },
      "source": [
        "print(clf.best_params_)"
      ],
      "execution_count": null,
      "outputs": [
        {
          "output_type": "stream",
          "text": [
            "{'C': 0.01, 'max_iter': 100, 'penalty': 'l2', 'solver': 'newton-cg'}\n"
          ],
          "name": "stdout"
        }
      ]
    },
    {
      "cell_type": "code",
      "metadata": {
        "id": "YLHRBni6Tdjm",
        "colab": {
          "base_uri": "https://localhost:8080/"
        },
        "outputId": "35d90f6f-79d3-490b-d8d2-8344c1b65075"
      },
      "source": [
        "score = clf.score(x_test, y_test)\n",
        "print(score)"
      ],
      "execution_count": null,
      "outputs": [
        {
          "output_type": "stream",
          "text": [
            "0.9583333333333334\n"
          ],
          "name": "stdout"
        }
      ]
    },
    {
      "cell_type": "code",
      "metadata": {
        "id": "ENdlKckJUq-F",
        "colab": {
          "base_uri": "https://localhost:8080/",
          "height": 311
        },
        "outputId": "e9350472-cb60-406c-c0ac-998f4f9a848e"
      },
      "source": [
        "from sklearn import metrics\n",
        "import matplotlib.pyplot as plt\n",
        "import seaborn as sns\n",
        "import pandas as pd\n",
        "\n",
        "y_pred = clf.predict(x_test)\n",
        "cnf_matrix = metrics.confusion_matrix(y_test, y_pred)\n",
        "\n",
        "labels = list(range(10))\n",
        "fig, ax = plt.subplots()\n",
        "tick_marks = np.arange(len(labels))\n",
        "plt.xticks(tick_marks, labels)\n",
        "plt.yticks(tick_marks, labels)\n",
        "# create heatmap\n",
        "sns.heatmap(pd.DataFrame(cnf_matrix), annot=True, cmap=\"YlGnBu\", fmt='g')\n",
        "ax.xaxis.set_label_position(\"top\")\n",
        "plt.title('Confusion matrix', y=1.1)\n",
        "plt.ylabel('True')\n",
        "plt.xlabel('Predicted')"
      ],
      "execution_count": null,
      "outputs": [
        {
          "output_type": "execute_result",
          "data": {
            "text/plain": [
              "Text(0.5, 15.0, 'Predicted')"
            ]
          },
          "metadata": {
            "tags": []
          },
          "execution_count": 22
        },
        {
          "output_type": "display_data",
          "data": {
            "image/png": "[encoded data removed]",
            "text/plain": [
              "<Figure size 432x288 with 2 Axes>"
            ]
          },
          "metadata": {
            "tags": [],
            "needs_background": "light"
          }
        }
      ]
    },
    {
      "cell_type": "markdown",
      "metadata": {
        "id": "NM9cir-iUYPK"
      },
      "source": [
        "# Practice Session\n",
        "\n",
        "## Heart Disease Prediction using Logistic Regression\n",
        "\n",
        "https://www.kaggle.com/ronitf/heart-disease-uci\n",
        "\n"
      ]
    },
    {
      "cell_type": "code",
      "metadata": {
        "id": "3EHfiGxlUXL4"
      },
      "source": [
        "import pandas as pd"
      ],
      "execution_count": null,
      "outputs": []
    },
    {
      "cell_type": "code",
      "metadata": {
        "id": "R2_GyycjcfvQ"
      },
      "source": [
        "df = pd.read_csv(\"heart.csv\")"
      ],
      "execution_count": null,
      "outputs": []
    },
    {
      "cell_type": "code",
      "metadata": {
        "colab": {
          "base_uri": "https://localhost:8080/"
        },
        "id": "VV1SAILhcjCD",
        "outputId": "406bed8a-9ee1-4534-ef31-b74866559a2e"
      },
      "source": [
        "df.shape"
      ],
      "execution_count": null,
      "outputs": [
        {
          "output_type": "execute_result",
          "data": {
            "text/plain": [
              "(303, 14)"
            ]
          },
          "metadata": {},
          "execution_count": 3
        }
      ]
    },
    {
      "cell_type": "code",
      "metadata": {
        "colab": {
          "base_uri": "https://localhost:8080/"
        },
        "id": "SU1XWzV4ckDs",
        "outputId": "afbc72a8-6f3a-438a-9366-52704f136108"
      },
      "source": [
        "df.columns"
      ],
      "execution_count": null,
      "outputs": [
        {
          "output_type": "execute_result",
          "data": {
            "text/plain": [
              "Index(['age', 'sex', 'cp', 'trestbps', 'chol', 'fbs', 'restecg', 'thalach',\n",
              "       'exang', 'oldpeak', 'slope', 'ca', 'thal', 'target'],\n",
              "      dtype='object')"
            ]
          },
          "metadata": {},
          "execution_count": 4
        }
      ]
    },
    {
      "cell_type": "code",
      "metadata": {
        "colab": {
          "base_uri": "https://localhost:8080/",
          "height": 297
        },
        "id": "4SKVLg7xclt9",
        "outputId": "aac69cd6-a3d4-4b02-a5c4-12a86c7d0a29"
      },
      "source": [
        "df.describe()"
      ],
      "execution_count": null,
      "outputs": [
        {
          "output_type": "execute_result",
          "data": {
            "text/html": [
              "<div>\n",
              "<style scoped>\n",
              "    .dataframe tbody tr th:only-of-type {\n",
              "        vertical-align: middle;\n",
              "    }\n",
              "\n",
              "    .dataframe tbody tr th {\n",
              "        vertical-align: top;\n",
              "    }\n",
              "\n",
              "    .dataframe thead th {\n",
              "        text-align: right;\n",
              "    }\n",
              "</style>\n",
              "<table border=\"1\" class=\"dataframe\">\n",
              "  <thead>\n",
              "    <tr style=\"text-align: right;\">\n",
              "      <th></th>\n",
              "      <th>age</th>\n",
              "      <th>sex</th>\n",
              "      <th>cp</th>\n",
              "      <th>trestbps</th>\n",
              "      <th>chol</th>\n",
              "      <th>fbs</th>\n",
              "      <th>restecg</th>\n",
              "      <th>thalach</th>\n",
              "      <th>exang</th>\n",
              "      <th>oldpeak</th>\n",
              "      <th>slope</th>\n",
              "      <th>ca</th>\n",
              "      <th>thal</th>\n",
              "      <th>target</th>\n",
              "    </tr>\n",
              "  </thead>\n",
              "  <tbody>\n",
              "    <tr>\n",
              "      <th>count</th>\n",
              "      <td>303.000000</td>\n",
              "      <td>303.000000</td>\n",
              "      <td>303.000000</td>\n",
              "      <td>303.000000</td>\n",
              "      <td>303.000000</td>\n",
              "      <td>303.000000</td>\n",
              "      <td>303.000000</td>\n",
              "      <td>303.000000</td>\n",
              "      <td>303.000000</td>\n",
              "      <td>303.000000</td>\n",
              "      <td>303.000000</td>\n",
              "      <td>303.000000</td>\n",
              "      <td>303.000000</td>\n",
              "      <td>303.000000</td>\n",
              "    </tr>\n",
              "    <tr>\n",
              "      <th>mean</th>\n",
              "      <td>54.366337</td>\n",
              "      <td>0.683168</td>\n",
              "      <td>0.966997</td>\n",
              "      <td>131.623762</td>\n",
              "      <td>246.264026</td>\n",
              "      <td>0.148515</td>\n",
              "      <td>0.528053</td>\n",
              "      <td>149.646865</td>\n",
              "      <td>0.326733</td>\n",
              "      <td>1.039604</td>\n",
              "      <td>1.399340</td>\n",
              "      <td>0.729373</td>\n",
              "      <td>2.313531</td>\n",
              "      <td>0.544554</td>\n",
              "    </tr>\n",
              "    <tr>\n",
              "      <th>std</th>\n",
              "      <td>9.082101</td>\n",
              "      <td>0.466011</td>\n",
              "      <td>1.032052</td>\n",
              "      <td>17.538143</td>\n",
              "      <td>51.830751</td>\n",
              "      <td>0.356198</td>\n",
              "      <td>0.525860</td>\n",
              "      <td>22.905161</td>\n",
              "      <td>0.469794</td>\n",
              "      <td>1.161075</td>\n",
              "      <td>0.616226</td>\n",
              "      <td>1.022606</td>\n",
              "      <td>0.612277</td>\n",
              "      <td>0.498835</td>\n",
              "    </tr>\n",
              "    <tr>\n",
              "      <th>min</th>\n",
              "      <td>29.000000</td>\n",
              "      <td>0.000000</td>\n",
              "      <td>0.000000</td>\n",
              "      <td>94.000000</td>\n",
              "      <td>126.000000</td>\n",
              "      <td>0.000000</td>\n",
              "      <td>0.000000</td>\n",
              "      <td>71.000000</td>\n",
              "      <td>0.000000</td>\n",
              "      <td>0.000000</td>\n",
              "      <td>0.000000</td>\n",
              "      <td>0.000000</td>\n",
              "      <td>0.000000</td>\n",
              "      <td>0.000000</td>\n",
              "    </tr>\n",
              "    <tr>\n",
              "      <th>25%</th>\n",
              "      <td>47.500000</td>\n",
              "      <td>0.000000</td>\n",
              "      <td>0.000000</td>\n",
              "      <td>120.000000</td>\n",
              "      <td>211.000000</td>\n",
              "      <td>0.000000</td>\n",
              "      <td>0.000000</td>\n",
              "      <td>133.500000</td>\n",
              "      <td>0.000000</td>\n",
              "      <td>0.000000</td>\n",
              "      <td>1.000000</td>\n",
              "      <td>0.000000</td>\n",
              "      <td>2.000000</td>\n",
              "      <td>0.000000</td>\n",
              "    </tr>\n",
              "    <tr>\n",
              "      <th>50%</th>\n",
              "      <td>55.000000</td>\n",
              "      <td>1.000000</td>\n",
              "      <td>1.000000</td>\n",
              "      <td>130.000000</td>\n",
              "      <td>240.000000</td>\n",
              "      <td>0.000000</td>\n",
              "      <td>1.000000</td>\n",
              "      <td>153.000000</td>\n",
              "      <td>0.000000</td>\n",
              "      <td>0.800000</td>\n",
              "      <td>1.000000</td>\n",
              "      <td>0.000000</td>\n",
              "      <td>2.000000</td>\n",
              "      <td>1.000000</td>\n",
              "    </tr>\n",
              "    <tr>\n",
              "      <th>75%</th>\n",
              "      <td>61.000000</td>\n",
              "      <td>1.000000</td>\n",
              "      <td>2.000000</td>\n",
              "      <td>140.000000</td>\n",
              "      <td>274.500000</td>\n",
              "      <td>0.000000</td>\n",
              "      <td>1.000000</td>\n",
              "      <td>166.000000</td>\n",
              "      <td>1.000000</td>\n",
              "      <td>1.600000</td>\n",
              "      <td>2.000000</td>\n",
              "      <td>1.000000</td>\n",
              "      <td>3.000000</td>\n",
              "      <td>1.000000</td>\n",
              "    </tr>\n",
              "    <tr>\n",
              "      <th>max</th>\n",
              "      <td>77.000000</td>\n",
              "      <td>1.000000</td>\n",
              "      <td>3.000000</td>\n",
              "      <td>200.000000</td>\n",
              "      <td>564.000000</td>\n",
              "      <td>1.000000</td>\n",
              "      <td>2.000000</td>\n",
              "      <td>202.000000</td>\n",
              "      <td>1.000000</td>\n",
              "      <td>6.200000</td>\n",
              "      <td>2.000000</td>\n",
              "      <td>4.000000</td>\n",
              "      <td>3.000000</td>\n",
              "      <td>1.000000</td>\n",
              "    </tr>\n",
              "  </tbody>\n",
              "</table>\n",
              "</div>"
            ],
            "text/plain": [
              "              age         sex          cp  ...          ca        thal      target\n",
              "count  303.000000  303.000000  303.000000  ...  303.000000  303.000000  303.000000\n",
              "mean    54.366337    0.683168    0.966997  ...    0.729373    2.313531    0.544554\n",
              "std      9.082101    0.466011    1.032052  ...    1.022606    0.612277    0.498835\n",
              "min     29.000000    0.000000    0.000000  ...    0.000000    0.000000    0.000000\n",
              "25%     47.500000    0.000000    0.000000  ...    0.000000    2.000000    0.000000\n",
              "50%     55.000000    1.000000    1.000000  ...    0.000000    2.000000    1.000000\n",
              "75%     61.000000    1.000000    2.000000  ...    1.000000    3.000000    1.000000\n",
              "max     77.000000    1.000000    3.000000  ...    4.000000    3.000000    1.000000\n",
              "\n",
              "[8 rows x 14 columns]"
            ]
          },
          "metadata": {},
          "execution_count": 10
        }
      ]
    },
    {
      "cell_type": "code",
      "metadata": {
        "colab": {
          "base_uri": "https://localhost:8080/"
        },
        "id": "ui-gRtxhcn7S",
        "outputId": "39e07135-66cf-45de-9f65-2f4c001db329"
      },
      "source": [
        "df.info()"
      ],
      "execution_count": null,
      "outputs": [
        {
          "output_type": "stream",
          "text": [
            "<class 'pandas.core.frame.DataFrame'>\n",
            "RangeIndex: 303 entries, 0 to 302\n",
            "Data columns (total 14 columns):\n",
            " #   Column    Non-Null Count  Dtype  \n",
            "---  ------    --------------  -----  \n",
            " 0   age       303 non-null    int64  \n",
            " 1   sex       303 non-null    int64  \n",
            " 2   cp        303 non-null    int64  \n",
            " 3   trestbps  303 non-null    int64  \n",
            " 4   chol      303 non-null    int64  \n",
            " 5   fbs       303 non-null    int64  \n",
            " 6   restecg   303 non-null    int64  \n",
            " 7   thalach   303 non-null    int64  \n",
            " 8   exang     303 non-null    int64  \n",
            " 9   oldpeak   303 non-null    float64\n",
            " 10  slope     303 non-null    int64  \n",
            " 11  ca        303 non-null    int64  \n",
            " 12  thal      303 non-null    int64  \n",
            " 13  target    303 non-null    int64  \n",
            "dtypes: float64(1), int64(13)\n",
            "memory usage: 33.3 KB\n"
          ],
          "name": "stdout"
        }
      ]
    },
    {
      "cell_type": "code",
      "metadata": {
        "colab": {
          "base_uri": "https://localhost:8080/",
          "height": 419
        },
        "id": "CKedszJgcqlp",
        "outputId": "375ca437-101b-454c-c88a-054f6208c226"
      },
      "source": [
        "df.head(100)"
      ],
      "execution_count": null,
      "outputs": [
        {
          "output_type": "execute_result",
          "data": {
            "text/html": [
              "<div>\n",
              "<style scoped>\n",
              "    .dataframe tbody tr th:only-of-type {\n",
              "        vertical-align: middle;\n",
              "    }\n",
              "\n",
              "    .dataframe tbody tr th {\n",
              "        vertical-align: top;\n",
              "    }\n",
              "\n",
              "    .dataframe thead th {\n",
              "        text-align: right;\n",
              "    }\n",
              "</style>\n",
              "<table border=\"1\" class=\"dataframe\">\n",
              "  <thead>\n",
              "    <tr style=\"text-align: right;\">\n",
              "      <th></th>\n",
              "      <th>age</th>\n",
              "      <th>sex</th>\n",
              "      <th>cp</th>\n",
              "      <th>trestbps</th>\n",
              "      <th>chol</th>\n",
              "      <th>fbs</th>\n",
              "      <th>restecg</th>\n",
              "      <th>thalach</th>\n",
              "      <th>exang</th>\n",
              "      <th>oldpeak</th>\n",
              "      <th>slope</th>\n",
              "      <th>ca</th>\n",
              "      <th>thal</th>\n",
              "      <th>target</th>\n",
              "    </tr>\n",
              "  </thead>\n",
              "  <tbody>\n",
              "    <tr>\n",
              "      <th>0</th>\n",
              "      <td>63</td>\n",
              "      <td>1</td>\n",
              "      <td>3</td>\n",
              "      <td>145</td>\n",
              "      <td>233</td>\n",
              "      <td>1</td>\n",
              "      <td>0</td>\n",
              "      <td>150</td>\n",
              "      <td>0</td>\n",
              "      <td>2.3</td>\n",
              "      <td>0</td>\n",
              "      <td>0</td>\n",
              "      <td>1</td>\n",
              "      <td>1</td>\n",
              "    </tr>\n",
              "    <tr>\n",
              "      <th>1</th>\n",
              "      <td>37</td>\n",
              "      <td>1</td>\n",
              "      <td>2</td>\n",
              "      <td>130</td>\n",
              "      <td>250</td>\n",
              "      <td>0</td>\n",
              "      <td>1</td>\n",
              "      <td>187</td>\n",
              "      <td>0</td>\n",
              "      <td>3.5</td>\n",
              "      <td>0</td>\n",
              "      <td>0</td>\n",
              "      <td>2</td>\n",
              "      <td>1</td>\n",
              "    </tr>\n",
              "    <tr>\n",
              "      <th>2</th>\n",
              "      <td>41</td>\n",
              "      <td>0</td>\n",
              "      <td>1</td>\n",
              "      <td>130</td>\n",
              "      <td>204</td>\n",
              "      <td>0</td>\n",
              "      <td>0</td>\n",
              "      <td>172</td>\n",
              "      <td>0</td>\n",
              "      <td>1.4</td>\n",
              "      <td>2</td>\n",
              "      <td>0</td>\n",
              "      <td>2</td>\n",
              "      <td>1</td>\n",
              "    </tr>\n",
              "    <tr>\n",
              "      <th>3</th>\n",
              "      <td>56</td>\n",
              "      <td>1</td>\n",
              "      <td>1</td>\n",
              "      <td>120</td>\n",
              "      <td>236</td>\n",
              "      <td>0</td>\n",
              "      <td>1</td>\n",
              "      <td>178</td>\n",
              "      <td>0</td>\n",
              "      <td>0.8</td>\n",
              "      <td>2</td>\n",
              "      <td>0</td>\n",
              "      <td>2</td>\n",
              "      <td>1</td>\n",
              "    </tr>\n",
              "    <tr>\n",
              "      <th>4</th>\n",
              "      <td>57</td>\n",
              "      <td>0</td>\n",
              "      <td>0</td>\n",
              "      <td>120</td>\n",
              "      <td>354</td>\n",
              "      <td>0</td>\n",
              "      <td>1</td>\n",
              "      <td>163</td>\n",
              "      <td>1</td>\n",
              "      <td>0.6</td>\n",
              "      <td>2</td>\n",
              "      <td>0</td>\n",
              "      <td>2</td>\n",
              "      <td>1</td>\n",
              "    </tr>\n",
              "    <tr>\n",
              "      <th>...</th>\n",
              "      <td>...</td>\n",
              "      <td>...</td>\n",
              "      <td>...</td>\n",
              "      <td>...</td>\n",
              "      <td>...</td>\n",
              "      <td>...</td>\n",
              "      <td>...</td>\n",
              "      <td>...</td>\n",
              "      <td>...</td>\n",
              "      <td>...</td>\n",
              "      <td>...</td>\n",
              "      <td>...</td>\n",
              "      <td>...</td>\n",
              "      <td>...</td>\n",
              "    </tr>\n",
              "    <tr>\n",
              "      <th>95</th>\n",
              "      <td>53</td>\n",
              "      <td>1</td>\n",
              "      <td>0</td>\n",
              "      <td>142</td>\n",
              "      <td>226</td>\n",
              "      <td>0</td>\n",
              "      <td>0</td>\n",
              "      <td>111</td>\n",
              "      <td>1</td>\n",
              "      <td>0.0</td>\n",
              "      <td>2</td>\n",
              "      <td>0</td>\n",
              "      <td>3</td>\n",
              "      <td>1</td>\n",
              "    </tr>\n",
              "    <tr>\n",
              "      <th>96</th>\n",
              "      <td>62</td>\n",
              "      <td>0</td>\n",
              "      <td>0</td>\n",
              "      <td>140</td>\n",
              "      <td>394</td>\n",
              "      <td>0</td>\n",
              "      <td>0</td>\n",
              "      <td>157</td>\n",
              "      <td>0</td>\n",
              "      <td>1.2</td>\n",
              "      <td>1</td>\n",
              "      <td>0</td>\n",
              "      <td>2</td>\n",
              "      <td>1</td>\n",
              "    </tr>\n",
              "    <tr>\n",
              "      <th>97</th>\n",
              "      <td>52</td>\n",
              "      <td>1</td>\n",
              "      <td>0</td>\n",
              "      <td>108</td>\n",
              "      <td>233</td>\n",
              "      <td>1</td>\n",
              "      <td>1</td>\n",
              "      <td>147</td>\n",
              "      <td>0</td>\n",
              "      <td>0.1</td>\n",
              "      <td>2</td>\n",
              "      <td>3</td>\n",
              "      <td>3</td>\n",
              "      <td>1</td>\n",
              "    </tr>\n",
              "    <tr>\n",
              "      <th>98</th>\n",
              "      <td>43</td>\n",
              "      <td>1</td>\n",
              "      <td>2</td>\n",
              "      <td>130</td>\n",
              "      <td>315</td>\n",
              "      <td>0</td>\n",
              "      <td>1</td>\n",
              "      <td>162</td>\n",
              "      <td>0</td>\n",
              "      <td>1.9</td>\n",
              "      <td>2</td>\n",
              "      <td>1</td>\n",
              "      <td>2</td>\n",
              "      <td>1</td>\n",
              "    </tr>\n",
              "    <tr>\n",
              "      <th>99</th>\n",
              "      <td>53</td>\n",
              "      <td>1</td>\n",
              "      <td>2</td>\n",
              "      <td>130</td>\n",
              "      <td>246</td>\n",
              "      <td>1</td>\n",
              "      <td>0</td>\n",
              "      <td>173</td>\n",
              "      <td>0</td>\n",
              "      <td>0.0</td>\n",
              "      <td>2</td>\n",
              "      <td>3</td>\n",
              "      <td>2</td>\n",
              "      <td>1</td>\n",
              "    </tr>\n",
              "  </tbody>\n",
              "</table>\n",
              "<p>100 rows × 14 columns</p>\n",
              "</div>"
            ],
            "text/plain": [
              "    age  sex  cp  trestbps  chol  fbs  ...  exang  oldpeak  slope  ca  thal  target\n",
              "0    63    1   3       145   233    1  ...      0      2.3      0   0     1       1\n",
              "1    37    1   2       130   250    0  ...      0      3.5      0   0     2       1\n",
              "2    41    0   1       130   204    0  ...      0      1.4      2   0     2       1\n",
              "3    56    1   1       120   236    0  ...      0      0.8      2   0     2       1\n",
              "4    57    0   0       120   354    0  ...      1      0.6      2   0     2       1\n",
              "..  ...  ...  ..       ...   ...  ...  ...    ...      ...    ...  ..   ...     ...\n",
              "95   53    1   0       142   226    0  ...      1      0.0      2   0     3       1\n",
              "96   62    0   0       140   394    0  ...      0      1.2      1   0     2       1\n",
              "97   52    1   0       108   233    1  ...      0      0.1      2   3     3       1\n",
              "98   43    1   2       130   315    0  ...      0      1.9      2   1     2       1\n",
              "99   53    1   2       130   246    1  ...      0      0.0      2   3     2       1\n",
              "\n",
              "[100 rows x 14 columns]"
            ]
          },
          "metadata": {},
          "execution_count": 9
        }
      ]
    },
    {
      "cell_type": "code",
      "metadata": {
        "colab": {
          "base_uri": "https://localhost:8080/"
        },
        "id": "9W3lJGYccweR",
        "outputId": "aaa8cf76-f27a-4d90-ad14-889bb6268d67"
      },
      "source": [
        "print(df.target.value_counts())"
      ],
      "execution_count": null,
      "outputs": [
        {
          "output_type": "stream",
          "text": [
            "1    165\n",
            "0    138\n",
            "Name: target, dtype: int64\n"
          ],
          "name": "stdout"
        }
      ]
    },
    {
      "cell_type": "code",
      "metadata": {
        "colab": {
          "base_uri": "https://localhost:8080/",
          "height": 279
        },
        "id": "s0vQj4x-dGUA",
        "outputId": "26e28093-5d62-49d2-cd4c-1a3ccdfcf212"
      },
      "source": [
        "df.target.value_counts().plot(kind=\"bar\", color=[\"red\", \"green\"])"
      ],
      "execution_count": null,
      "outputs": [
        {
          "output_type": "execute_result",
          "data": {
            "text/plain": [
              "<matplotlib.axes._subplots.AxesSubplot at 0x7f702538cb10>"
            ]
          },
          "metadata": {},
          "execution_count": 12
        },
        {
          "output_type": "display_data",
          "data": {
            "image/png": "[encoded data removed]",
            "text/plain": [
              "<Figure size 432x288 with 1 Axes>"
            ]
          },
          "metadata": {
            "needs_background": "light"
          }
        }
      ]
    },
    {
      "cell_type": "code",
      "metadata": {
        "colab": {
          "base_uri": "https://localhost:8080/"
        },
        "id": "rfryAXJWdLsP",
        "outputId": "1d716e70-90bc-43f5-f3af-26189541b0a8"
      },
      "source": [
        "missing_values_count = df.isnull().sum()\n",
        "print(missing_values_count)"
      ],
      "execution_count": null,
      "outputs": [
        {
          "output_type": "stream",
          "text": [
            "age         0\n",
            "sex         0\n",
            "cp          0\n",
            "trestbps    0\n",
            "chol        0\n",
            "fbs         0\n",
            "restecg     0\n",
            "thalach     0\n",
            "exang       0\n",
            "oldpeak     0\n",
            "slope       0\n",
            "ca          0\n",
            "thal        0\n",
            "target      0\n",
            "dtype: int64\n"
          ],
          "name": "stdout"
        }
      ]
    },
    {
      "cell_type": "code",
      "metadata": {
        "colab": {
          "base_uri": "https://localhost:8080/"
        },
        "id": "jzhIhjoadX3f",
        "outputId": "ea12f75b-3e62-4d94-e0ac-8cfd8ff8fb92"
      },
      "source": [
        "for each_col in df.columns:\n",
        "  print(each_col)\n",
        "  print(df[each_col].unique())"
      ],
      "execution_count": null,
      "outputs": [
        {
          "output_type": "stream",
          "text": [
            "age\n",
            "[63 37 41 56 57 44 52 54 48 49 64 58 50 66 43 69 59 42 61 40 71 51 65 53\n",
            " 46 45 39 47 62 34 35 29 55 60 67 68 74 76 70 38 77]\n",
            "sex\n",
            "[1 0]\n",
            "cp\n",
            "[3 2 1 0]\n",
            "trestbps\n",
            "[145 130 120 140 172 150 110 135 160 105 125 142 155 104 138 128 108 134\n",
            " 122 115 118 100 124  94 112 102 152 101 132 148 178 129 180 136 126 106\n",
            " 156 170 146 117 200 165 174 192 144 123 154 114 164]\n",
            "chol\n",
            "[233 250 204 236 354 192 294 263 199 168 239 275 266 211 283 219 340 226\n",
            " 247 234 243 302 212 175 417 197 198 177 273 213 304 232 269 360 308 245\n",
            " 208 264 321 325 235 257 216 256 231 141 252 201 222 260 182 303 265 309\n",
            " 186 203 183 220 209 258 227 261 221 205 240 318 298 564 277 214 248 255\n",
            " 207 223 288 160 394 315 246 244 270 195 196 254 126 313 262 215 193 271\n",
            " 268 267 210 295 306 178 242 180 228 149 278 253 342 157 286 229 284 224\n",
            " 206 167 230 335 276 353 225 330 290 172 305 188 282 185 326 274 164 307\n",
            " 249 341 407 217 174 281 289 322 299 300 293 184 409 259 200 327 237 218\n",
            " 319 166 311 169 187 176 241 131]\n",
            "fbs\n",
            "[1 0]\n",
            "restecg\n",
            "[0 1 2]\n",
            "thalach\n",
            "[150 187 172 178 163 148 153 173 162 174 160 139 171 144 158 114 151 161\n",
            " 179 137 157 123 152 168 140 188 125 170 165 142 180 143 182 156 115 149\n",
            " 146 175 186 185 159 130 190 132 147 154 202 166 164 184 122 169 138 111\n",
            " 145 194 131 133 155 167 192 121  96 126 105 181 116 108 129 120 112 128\n",
            " 109 113  99 177 141 136  97 127 103 124  88 195 106  95 117  71 118 134\n",
            "  90]\n",
            "exang\n",
            "[0 1]\n",
            "oldpeak\n",
            "[2.3 3.5 1.4 0.8 0.6 0.4 1.3 0.  0.5 1.6 1.2 0.2 1.8 1.  2.6 1.5 3.  2.4\n",
            " 0.1 1.9 4.2 1.1 2.  0.7 0.3 0.9 3.6 3.1 3.2 2.5 2.2 2.8 3.4 6.2 4.  5.6\n",
            " 2.9 2.1 3.8 4.4]\n",
            "slope\n",
            "[0 2 1]\n",
            "ca\n",
            "[0 2 1 3 4]\n",
            "thal\n",
            "[1 2 3 0]\n",
            "target\n",
            "[1 0]\n"
          ],
          "name": "stdout"
        }
      ]
    },
    {
      "cell_type": "code",
      "metadata": {
        "colab": {
          "base_uri": "https://localhost:8080/",
          "height": 407
        },
        "id": "icSmw9mAdkT0",
        "outputId": "c61f4542-53a8-4a96-8643-d4a4a7feba5f"
      },
      "source": [
        "from matplotlib import pyplot as plt\n",
        "fig, ax = plt.subplots(figsize =(8, 6))\n",
        "\n",
        "ax.hist(df['chol'], bins=20, facecolor='blue')\n",
        "ax.set_title('Distribution of cholesterol')"
      ],
      "execution_count": null,
      "outputs": [
        {
          "output_type": "execute_result",
          "data": {
            "text/plain": [
              "Text(0.5, 1.0, 'Distribution of cholesterol')"
            ]
          },
          "metadata": {},
          "execution_count": 22
        },
        {
          "output_type": "display_data",
          "data": {
            "image/png": "[encoded data removed]",
            "text/plain": [
              "<Figure size 576x432 with 1 Axes>"
            ]
          },
          "metadata": {
            "needs_background": "light"
          }
        }
      ]
    },
    {
      "cell_type": "code",
      "metadata": {
        "colab": {
          "base_uri": "https://localhost:8080/",
          "height": 1000
        },
        "id": "aDdEu1g0emmV",
        "outputId": "cc0dfeb8-ce18-4666-df80-c0c54c95cda9"
      },
      "source": [
        "def draw_histograms(dataframe, features, rows, cols):\n",
        "    fig=plt.figure(figsize=(20,20))\n",
        "    for i, feature in enumerate(features):\n",
        "        ax=fig.add_subplot(rows,cols,i+1)\n",
        "        dataframe[feature].hist(bins=20,ax=ax,facecolor='blue')\n",
        "        ax.set_title(\"Distribution of \" + feature,color='Red')\n",
        "        \n",
        "    fig.tight_layout()  \n",
        "    plt.show()\n",
        "draw_histograms(df,df.columns,6,3)"
      ],
      "execution_count": null,
      "outputs": [
        {
          "output_type": "display_data",
          "data": {
            "image/png": "[encoded data removed]",
            "text/plain": [
              "<Figure size 1440x1440 with 14 Axes>"
            ]
          },
          "metadata": {
            "needs_background": "light"
          }
        }
      ]
    },
    {
      "cell_type": "code",
      "metadata": {
        "colab": {
          "base_uri": "https://localhost:8080/"
        },
        "id": "0R0AWoPGfNHT",
        "outputId": "24b6b791-d0d4-4546-e754-af84f5f12d81"
      },
      "source": [
        "print(df[df['target']==1]['chol'].min())"
      ],
      "execution_count": null,
      "outputs": [
        {
          "output_type": "stream",
          "text": [
            "126\n"
          ],
          "name": "stdout"
        }
      ]
    },
    {
      "cell_type": "code",
      "metadata": {
        "colab": {
          "base_uri": "https://localhost:8080/"
        },
        "id": "AakGWkMeftST",
        "outputId": "4c37a6ea-a025-4959-929d-9840764aae2d"
      },
      "source": [
        "print(df[df['target']==0]['chol'].min())"
      ],
      "execution_count": null,
      "outputs": [
        {
          "output_type": "stream",
          "text": [
            "131\n"
          ],
          "name": "stdout"
        }
      ]
    },
    {
      "cell_type": "code",
      "metadata": {
        "colab": {
          "base_uri": "https://localhost:8080/"
        },
        "id": "Wu2t3Tr5fxou",
        "outputId": "a733b6aa-eedc-4b5f-bf43-0b63e6b5bb58"
      },
      "source": [
        "categorical_val = []\n",
        "continous_val = []\n",
        "for column in df.columns:\n",
        "    \n",
        "    print(f\"{column} : {df[column].unique()}\")\n",
        "    if len(df[column].unique()) <= 10:\n",
        "        categorical_val.append(column)\n",
        "    else:\n",
        "        continous_val.append(column)"
      ],
      "execution_count": null,
      "outputs": [
        {
          "output_type": "stream",
          "text": [
            "age : [63 37 41 56 57 44 52 54 48 49 64 58 50 66 43 69 59 42 61 40 71 51 65 53\n",
            " 46 45 39 47 62 34 35 29 55 60 67 68 74 76 70 38 77]\n",
            "sex : [1 0]\n",
            "cp : [3 2 1 0]\n",
            "trestbps : [145 130 120 140 172 150 110 135 160 105 125 142 155 104 138 128 108 134\n",
            " 122 115 118 100 124  94 112 102 152 101 132 148 178 129 180 136 126 106\n",
            " 156 170 146 117 200 165 174 192 144 123 154 114 164]\n",
            "chol : [233 250 204 236 354 192 294 263 199 168 239 275 266 211 283 219 340 226\n",
            " 247 234 243 302 212 175 417 197 198 177 273 213 304 232 269 360 308 245\n",
            " 208 264 321 325 235 257 216 256 231 141 252 201 222 260 182 303 265 309\n",
            " 186 203 183 220 209 258 227 261 221 205 240 318 298 564 277 214 248 255\n",
            " 207 223 288 160 394 315 246 244 270 195 196 254 126 313 262 215 193 271\n",
            " 268 267 210 295 306 178 242 180 228 149 278 253 342 157 286 229 284 224\n",
            " 206 167 230 335 276 353 225 330 290 172 305 188 282 185 326 274 164 307\n",
            " 249 341 407 217 174 281 289 322 299 300 293 184 409 259 200 327 237 218\n",
            " 319 166 311 169 187 176 241 131]\n",
            "fbs : [1 0]\n",
            "restecg : [0 1 2]\n",
            "thalach : [150 187 172 178 163 148 153 173 162 174 160 139 171 144 158 114 151 161\n",
            " 179 137 157 123 152 168 140 188 125 170 165 142 180 143 182 156 115 149\n",
            " 146 175 186 185 159 130 190 132 147 154 202 166 164 184 122 169 138 111\n",
            " 145 194 131 133 155 167 192 121  96 126 105 181 116 108 129 120 112 128\n",
            " 109 113  99 177 141 136  97 127 103 124  88 195 106  95 117  71 118 134\n",
            "  90]\n",
            "exang : [0 1]\n",
            "oldpeak : [2.3 3.5 1.4 0.8 0.6 0.4 1.3 0.  0.5 1.6 1.2 0.2 1.8 1.  2.6 1.5 3.  2.4\n",
            " 0.1 1.9 4.2 1.1 2.  0.7 0.3 0.9 3.6 3.1 3.2 2.5 2.2 2.8 3.4 6.2 4.  5.6\n",
            " 2.9 2.1 3.8 4.4]\n",
            "slope : [0 2 1]\n",
            "ca : [0 2 1 3 4]\n",
            "thal : [1 2 3 0]\n",
            "target : [1 0]\n"
          ],
          "name": "stdout"
        }
      ]
    },
    {
      "cell_type": "code",
      "metadata": {
        "colab": {
          "base_uri": "https://localhost:8080/"
        },
        "id": "7cxfW_2ugJRz",
        "outputId": "88eea2c5-de9d-4c67-8f88-634a509a9041"
      },
      "source": [
        "print(categorical_val)"
      ],
      "execution_count": null,
      "outputs": [
        {
          "output_type": "stream",
          "text": [
            "['sex', 'cp', 'fbs', 'restecg', 'exang', 'slope', 'ca', 'thal', 'target']\n"
          ],
          "name": "stdout"
        }
      ]
    },
    {
      "cell_type": "code",
      "metadata": {
        "colab": {
          "base_uri": "https://localhost:8080/",
          "height": 877
        },
        "id": "f21_ltgfgPE7",
        "outputId": "3e4e8225-f6bb-4c3e-8c78-72aafd61db3b"
      },
      "source": [
        "plt.figure(figsize=(15, 15))\n",
        "\n",
        "for i, column in enumerate(categorical_val, 1):\n",
        "    plt.subplot(3, 3, i)\n",
        "    df[df[\"target\"] == 0][column].hist(bins=40, color='blue', label='Heart Disease = NO')\n",
        "    df[df[\"target\"] == 1][column].hist(bins=40, color='red', label='Heart Disease = YES')\n",
        "    plt.legend()\n",
        "    plt.xlabel(column)"
      ],
      "execution_count": null,
      "outputs": [
        {
          "output_type": "display_data",
          "data": {
            "image/png": "[encoded data removed]",
            "text/plain": [
              "<Figure size 1080x1080 with 9 Axes>"
            ]
          },
          "metadata": {
            "needs_background": "light"
          }
        }
      ]
    },
    {
      "cell_type": "code",
      "metadata": {
        "id": "o8ez-Yo4gT07"
      },
      "source": [
        "categorical_val.remove('target')\n",
        "dataset = pd.get_dummies(df, columns = categorical_val)\n",
        "\n",
        "from sklearn.preprocessing import StandardScaler\n",
        "\n",
        "s_sc = StandardScaler()\n",
        "col_to_scale = ['age', 'trestbps', 'chol', 'thalach', 'oldpeak']\n",
        "dataset[col_to_scale] = s_sc.fit_transform(dataset[col_to_scale])"
      ],
      "execution_count": null,
      "outputs": []
    },
    {
      "cell_type": "code",
      "metadata": {
        "id": "60OEUcAhhlOZ"
      },
      "source": [
        "from sklearn.metrics import accuracy_score, confusion_matrix, classification_report\n",
        "from sklearn.model_selection import train_test_split\n",
        "\n",
        "X = dataset.drop('target', axis=1)\n",
        "y = dataset.target\n",
        "\n",
        "X_train, X_test, y_train, y_test = train_test_split(X, y, test_size=0.2)\n",
        "from sklearn.linear_model import LogisticRegression"
      ],
      "execution_count": null,
      "outputs": []
    },
    {
      "cell_type": "code",
      "metadata": {
        "colab": {
          "base_uri": "https://localhost:8080/"
        },
        "id": "OUR0VQBTh7dR",
        "outputId": "71971ea2-a279-4b42-d0b5-44af1497b5ec"
      },
      "source": [
        "model = LogisticRegression(solver='liblinear')\n",
        "model.fit(X_train, y_train)"
      ],
      "execution_count": null,
      "outputs": [
        {
          "output_type": "execute_result",
          "data": {
            "text/plain": [
              "LogisticRegression(C=1.0, class_weight=None, dual=False, fit_intercept=True,\n",
              "                   intercept_scaling=1, l1_ratio=None, max_iter=100,\n",
              "                   multi_class='auto', n_jobs=None, penalty='l2',\n",
              "                   random_state=None, solver='liblinear', tol=0.0001, verbose=0,\n",
              "                   warm_start=False)"
            ]
          },
          "metadata": {},
          "execution_count": 37
        }
      ]
    },
    {
      "cell_type": "code",
      "metadata": {
        "colab": {
          "base_uri": "https://localhost:8080/"
        },
        "id": "zA38cGywh-Fg",
        "outputId": "c73e95c4-ee64-4fc1-c93c-4736b9228fe3"
      },
      "source": [
        "pred = model.predict(X_test)\n",
        "clf_report = classification_report(y_test, pred)\n",
        "print(\"Test Result:\\n================================================\")        \n",
        "print(f\"Accuracy Score: {accuracy_score(y_test, pred) * 100:.2f}%\")\n",
        "print(\"_______________________________________________\")\n",
        "print(f\"CLASSIFICATION REPORT:\\n{clf_report}\")\n",
        "print(\"_______________________________________________\")\n",
        "print(f\"Confusion Matrix: \\n {confusion_matrix(y_test, pred)}\\n\")"
      ],
      "execution_count": null,
      "outputs": [
        {
          "output_type": "stream",
          "text": [
            "Test Result:\n",
            "================================================\n",
            "Accuracy Score: 78.69%\n",
            "_______________________________________________\n",
            "CLASSIFICATION REPORT:\n",
            "              precision    recall  f1-score   support\n",
            "\n",
            "           0       0.83      0.75      0.79        32\n",
            "           1       0.75      0.83      0.79        29\n",
            "\n",
            "    accuracy                           0.79        61\n",
            "   macro avg       0.79      0.79      0.79        61\n",
            "weighted avg       0.79      0.79      0.79        61\n",
            "\n",
            "_______________________________________________\n",
            "Confusion Matrix: \n",
            " [[24  8]\n",
            " [ 5 24]]\n",
            "\n"
          ],
          "name": "stdout"
        }
      ]
    },
    {
      "cell_type": "code",
      "metadata": {
        "id": "iNy0xRWuiKDv"
      },
      "source": [
        ""
      ],
      "execution_count": null,
      "outputs": []
    }
  ]
}